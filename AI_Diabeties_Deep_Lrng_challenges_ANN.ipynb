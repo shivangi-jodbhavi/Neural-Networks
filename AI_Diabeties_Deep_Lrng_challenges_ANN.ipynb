{
  "nbformat": 4,
  "nbformat_minor": 0,
  "metadata": {
    "colab": {
      "name": "AI_Diabeties_Deep_Lrng_challenges_ANN.ipynb",
      "provenance": []
    },
    "kernelspec": {
      "name": "python3",
      "display_name": "Python 3"
    },
    "language_info": {
      "name": "python"
    },
    "accelerator": "GPU"
  },
  "cells": [
    {
      "cell_type": "markdown",
      "metadata": {
        "id": "hpkqGWz08ZiN"
      },
      "source": [
        "#ANN model to predict diabetes "
      ]
    },
    {
      "cell_type": "markdown",
      "metadata": {
        "id": "soffDFu98k6R"
      },
      "source": [
        "# ->Loading the necessary librabries"
      ]
    },
    {
      "cell_type": "code",
      "metadata": {
        "id": "G8UZjza87Rux"
      },
      "source": [
        "import pandas as pd\n",
        "import numpy as np\n",
        "import matplotlib.pyplot as plt"
      ],
      "execution_count": null,
      "outputs": []
    },
    {
      "cell_type": "markdown",
      "metadata": {
        "id": "iPmJkrOg833z"
      },
      "source": [
        "#-> Loading the dataset"
      ]
    },
    {
      "cell_type": "code",
      "metadata": {
        "id": "izR-OgXZ7tkI"
      },
      "source": [
        "df = pd.read_csv(\"/content/diabetes.csv\")"
      ],
      "execution_count": null,
      "outputs": []
    },
    {
      "cell_type": "markdown",
      "metadata": {
        "id": "sfMH3Ip5DPTX"
      },
      "source": [
        "#**EDA :**"
      ]
    },
    {
      "cell_type": "markdown",
      "metadata": {
        "id": "kzYfudtF-TsA"
      },
      "source": [
        "#->peeking at the dataset"
      ]
    },
    {
      "cell_type": "code",
      "metadata": {
        "colab": {
          "base_uri": "https://localhost:8080/",
          "height": 206
        },
        "id": "6g-Ln6j_-Wuf",
        "outputId": "c4284566-0c29-40e2-d0b6-2cbd3c07e0e5"
      },
      "source": [
        "df.head()"
      ],
      "execution_count": null,
      "outputs": [
        {
          "output_type": "execute_result",
          "data": {
            "text/html": [
              "<div>\n",
              "<style scoped>\n",
              "    .dataframe tbody tr th:only-of-type {\n",
              "        vertical-align: middle;\n",
              "    }\n",
              "\n",
              "    .dataframe tbody tr th {\n",
              "        vertical-align: top;\n",
              "    }\n",
              "\n",
              "    .dataframe thead th {\n",
              "        text-align: right;\n",
              "    }\n",
              "</style>\n",
              "<table border=\"1\" class=\"dataframe\">\n",
              "  <thead>\n",
              "    <tr style=\"text-align: right;\">\n",
              "      <th></th>\n",
              "      <th>Pregnancies</th>\n",
              "      <th>Glucose</th>\n",
              "      <th>BloodPressure</th>\n",
              "      <th>SkinThickness</th>\n",
              "      <th>Insulin</th>\n",
              "      <th>BMI</th>\n",
              "      <th>DiabetesPedigreeFunction</th>\n",
              "      <th>Age</th>\n",
              "      <th>Outcome</th>\n",
              "    </tr>\n",
              "  </thead>\n",
              "  <tbody>\n",
              "    <tr>\n",
              "      <th>0</th>\n",
              "      <td>6</td>\n",
              "      <td>148</td>\n",
              "      <td>72</td>\n",
              "      <td>35</td>\n",
              "      <td>0</td>\n",
              "      <td>33.6</td>\n",
              "      <td>0.627</td>\n",
              "      <td>50</td>\n",
              "      <td>1</td>\n",
              "    </tr>\n",
              "    <tr>\n",
              "      <th>1</th>\n",
              "      <td>1</td>\n",
              "      <td>85</td>\n",
              "      <td>66</td>\n",
              "      <td>29</td>\n",
              "      <td>0</td>\n",
              "      <td>26.6</td>\n",
              "      <td>0.351</td>\n",
              "      <td>31</td>\n",
              "      <td>0</td>\n",
              "    </tr>\n",
              "    <tr>\n",
              "      <th>2</th>\n",
              "      <td>8</td>\n",
              "      <td>183</td>\n",
              "      <td>64</td>\n",
              "      <td>0</td>\n",
              "      <td>0</td>\n",
              "      <td>23.3</td>\n",
              "      <td>0.672</td>\n",
              "      <td>32</td>\n",
              "      <td>1</td>\n",
              "    </tr>\n",
              "    <tr>\n",
              "      <th>3</th>\n",
              "      <td>1</td>\n",
              "      <td>89</td>\n",
              "      <td>66</td>\n",
              "      <td>23</td>\n",
              "      <td>94</td>\n",
              "      <td>28.1</td>\n",
              "      <td>0.167</td>\n",
              "      <td>21</td>\n",
              "      <td>0</td>\n",
              "    </tr>\n",
              "    <tr>\n",
              "      <th>4</th>\n",
              "      <td>0</td>\n",
              "      <td>137</td>\n",
              "      <td>40</td>\n",
              "      <td>35</td>\n",
              "      <td>168</td>\n",
              "      <td>43.1</td>\n",
              "      <td>2.288</td>\n",
              "      <td>33</td>\n",
              "      <td>1</td>\n",
              "    </tr>\n",
              "  </tbody>\n",
              "</table>\n",
              "</div>"
            ],
            "text/plain": [
              "   Pregnancies  Glucose  BloodPressure  ...  DiabetesPedigreeFunction  Age  Outcome\n",
              "0            6      148             72  ...                     0.627   50        1\n",
              "1            1       85             66  ...                     0.351   31        0\n",
              "2            8      183             64  ...                     0.672   32        1\n",
              "3            1       89             66  ...                     0.167   21        0\n",
              "4            0      137             40  ...                     2.288   33        1\n",
              "\n",
              "[5 rows x 9 columns]"
            ]
          },
          "metadata": {},
          "execution_count": 108
        }
      ]
    },
    {
      "cell_type": "markdown",
      "metadata": {
        "id": "ztEgjldz-kcg"
      },
      "source": [
        "\n",
        "# ->Let's see how many rows and columns we got!"
      ]
    },
    {
      "cell_type": "code",
      "metadata": {
        "colab": {
          "base_uri": "https://localhost:8080/"
        },
        "id": "7zjQLl-3-odh",
        "outputId": "760e6880-a935-40e6-c9b5-595152633e02"
      },
      "source": [
        "df.shape"
      ],
      "execution_count": null,
      "outputs": [
        {
          "output_type": "execute_result",
          "data": {
            "text/plain": [
              "(768, 9)"
            ]
          },
          "metadata": {},
          "execution_count": 109
        }
      ]
    },
    {
      "cell_type": "markdown",
      "metadata": {
        "id": "sN48M7Kx-xke"
      },
      "source": [
        "#->Let's see some facts here"
      ]
    },
    {
      "cell_type": "code",
      "metadata": {
        "colab": {
          "base_uri": "https://localhost:8080/"
        },
        "id": "T_J0vJmU8Ado",
        "outputId": "6f424feb-3e58-494f-d1e9-472db71d40b8"
      },
      "source": [
        "df.info()"
      ],
      "execution_count": null,
      "outputs": [
        {
          "output_type": "stream",
          "name": "stdout",
          "text": [
            "<class 'pandas.core.frame.DataFrame'>\n",
            "RangeIndex: 768 entries, 0 to 767\n",
            "Data columns (total 9 columns):\n",
            " #   Column                    Non-Null Count  Dtype  \n",
            "---  ------                    --------------  -----  \n",
            " 0   Pregnancies               768 non-null    int64  \n",
            " 1   Glucose                   768 non-null    int64  \n",
            " 2   BloodPressure             768 non-null    int64  \n",
            " 3   SkinThickness             768 non-null    int64  \n",
            " 4   Insulin                   768 non-null    int64  \n",
            " 5   BMI                       768 non-null    float64\n",
            " 6   DiabetesPedigreeFunction  768 non-null    float64\n",
            " 7   Age                       768 non-null    int64  \n",
            " 8   Outcome                   768 non-null    int64  \n",
            "dtypes: float64(2), int64(7)\n",
            "memory usage: 54.1 KB\n"
          ]
        }
      ]
    },
    {
      "cell_type": "markdown",
      "metadata": {
        "id": "hSOM8LKA-1KX"
      },
      "source": [
        "#->Let's get some statistics summary\n"
      ]
    },
    {
      "cell_type": "code",
      "metadata": {
        "colab": {
          "base_uri": "https://localhost:8080/",
          "height": 320
        },
        "id": "0RFqS5NV8QdN",
        "outputId": "ca51bee1-d246-4a1d-dcab-af44b741fef8"
      },
      "source": [
        "df.describe()"
      ],
      "execution_count": null,
      "outputs": [
        {
          "output_type": "execute_result",
          "data": {
            "text/html": [
              "<div>\n",
              "<style scoped>\n",
              "    .dataframe tbody tr th:only-of-type {\n",
              "        vertical-align: middle;\n",
              "    }\n",
              "\n",
              "    .dataframe tbody tr th {\n",
              "        vertical-align: top;\n",
              "    }\n",
              "\n",
              "    .dataframe thead th {\n",
              "        text-align: right;\n",
              "    }\n",
              "</style>\n",
              "<table border=\"1\" class=\"dataframe\">\n",
              "  <thead>\n",
              "    <tr style=\"text-align: right;\">\n",
              "      <th></th>\n",
              "      <th>Pregnancies</th>\n",
              "      <th>Glucose</th>\n",
              "      <th>BloodPressure</th>\n",
              "      <th>SkinThickness</th>\n",
              "      <th>Insulin</th>\n",
              "      <th>BMI</th>\n",
              "      <th>DiabetesPedigreeFunction</th>\n",
              "      <th>Age</th>\n",
              "      <th>Outcome</th>\n",
              "    </tr>\n",
              "  </thead>\n",
              "  <tbody>\n",
              "    <tr>\n",
              "      <th>count</th>\n",
              "      <td>768.000000</td>\n",
              "      <td>768.000000</td>\n",
              "      <td>768.000000</td>\n",
              "      <td>768.000000</td>\n",
              "      <td>768.000000</td>\n",
              "      <td>768.000000</td>\n",
              "      <td>768.000000</td>\n",
              "      <td>768.000000</td>\n",
              "      <td>768.000000</td>\n",
              "    </tr>\n",
              "    <tr>\n",
              "      <th>mean</th>\n",
              "      <td>3.845052</td>\n",
              "      <td>120.894531</td>\n",
              "      <td>69.105469</td>\n",
              "      <td>20.536458</td>\n",
              "      <td>79.799479</td>\n",
              "      <td>31.992578</td>\n",
              "      <td>0.471876</td>\n",
              "      <td>33.240885</td>\n",
              "      <td>0.348958</td>\n",
              "    </tr>\n",
              "    <tr>\n",
              "      <th>std</th>\n",
              "      <td>3.369578</td>\n",
              "      <td>31.972618</td>\n",
              "      <td>19.355807</td>\n",
              "      <td>15.952218</td>\n",
              "      <td>115.244002</td>\n",
              "      <td>7.884160</td>\n",
              "      <td>0.331329</td>\n",
              "      <td>11.760232</td>\n",
              "      <td>0.476951</td>\n",
              "    </tr>\n",
              "    <tr>\n",
              "      <th>min</th>\n",
              "      <td>0.000000</td>\n",
              "      <td>0.000000</td>\n",
              "      <td>0.000000</td>\n",
              "      <td>0.000000</td>\n",
              "      <td>0.000000</td>\n",
              "      <td>0.000000</td>\n",
              "      <td>0.078000</td>\n",
              "      <td>21.000000</td>\n",
              "      <td>0.000000</td>\n",
              "    </tr>\n",
              "    <tr>\n",
              "      <th>25%</th>\n",
              "      <td>1.000000</td>\n",
              "      <td>99.000000</td>\n",
              "      <td>62.000000</td>\n",
              "      <td>0.000000</td>\n",
              "      <td>0.000000</td>\n",
              "      <td>27.300000</td>\n",
              "      <td>0.243750</td>\n",
              "      <td>24.000000</td>\n",
              "      <td>0.000000</td>\n",
              "    </tr>\n",
              "    <tr>\n",
              "      <th>50%</th>\n",
              "      <td>3.000000</td>\n",
              "      <td>117.000000</td>\n",
              "      <td>72.000000</td>\n",
              "      <td>23.000000</td>\n",
              "      <td>30.500000</td>\n",
              "      <td>32.000000</td>\n",
              "      <td>0.372500</td>\n",
              "      <td>29.000000</td>\n",
              "      <td>0.000000</td>\n",
              "    </tr>\n",
              "    <tr>\n",
              "      <th>75%</th>\n",
              "      <td>6.000000</td>\n",
              "      <td>140.250000</td>\n",
              "      <td>80.000000</td>\n",
              "      <td>32.000000</td>\n",
              "      <td>127.250000</td>\n",
              "      <td>36.600000</td>\n",
              "      <td>0.626250</td>\n",
              "      <td>41.000000</td>\n",
              "      <td>1.000000</td>\n",
              "    </tr>\n",
              "    <tr>\n",
              "      <th>max</th>\n",
              "      <td>17.000000</td>\n",
              "      <td>199.000000</td>\n",
              "      <td>122.000000</td>\n",
              "      <td>99.000000</td>\n",
              "      <td>846.000000</td>\n",
              "      <td>67.100000</td>\n",
              "      <td>2.420000</td>\n",
              "      <td>81.000000</td>\n",
              "      <td>1.000000</td>\n",
              "    </tr>\n",
              "  </tbody>\n",
              "</table>\n",
              "</div>"
            ],
            "text/plain": [
              "       Pregnancies     Glucose  ...         Age     Outcome\n",
              "count   768.000000  768.000000  ...  768.000000  768.000000\n",
              "mean      3.845052  120.894531  ...   33.240885    0.348958\n",
              "std       3.369578   31.972618  ...   11.760232    0.476951\n",
              "min       0.000000    0.000000  ...   21.000000    0.000000\n",
              "25%       1.000000   99.000000  ...   24.000000    0.000000\n",
              "50%       3.000000  117.000000  ...   29.000000    0.000000\n",
              "75%       6.000000  140.250000  ...   41.000000    1.000000\n",
              "max      17.000000  199.000000  ...   81.000000    1.000000\n",
              "\n",
              "[8 rows x 9 columns]"
            ]
          },
          "metadata": {},
          "execution_count": 111
        }
      ]
    },
    {
      "cell_type": "markdown",
      "metadata": {
        "id": "EcI165ds_I58"
      },
      "source": [
        "#->check for missing values."
      ]
    },
    {
      "cell_type": "code",
      "metadata": {
        "colab": {
          "base_uri": "https://localhost:8080/"
        },
        "id": "DcRs_wrr-7lq",
        "outputId": "4f80ce8e-ea59-4f16-e7cb-26ff7668a7fa"
      },
      "source": [
        "df.isnull().sum()"
      ],
      "execution_count": null,
      "outputs": [
        {
          "output_type": "execute_result",
          "data": {
            "text/plain": [
              "Pregnancies                 0\n",
              "Glucose                     0\n",
              "BloodPressure               0\n",
              "SkinThickness               0\n",
              "Insulin                     0\n",
              "BMI                         0\n",
              "DiabetesPedigreeFunction    0\n",
              "Age                         0\n",
              "Outcome                     0\n",
              "dtype: int64"
            ]
          },
          "metadata": {},
          "execution_count": 112
        }
      ]
    },
    {
      "cell_type": "code",
      "metadata": {
        "id": "jKzOWqOU_QlU"
      },
      "source": [
        "age_diabetic = df[df.Outcome==1].Age\n"
      ],
      "execution_count": null,
      "outputs": []
    },
    {
      "cell_type": "code",
      "metadata": {
        "id": "S8c-XWZgA1uq"
      },
      "source": [
        "age_non_diabetic  = df[df.Outcome==0].Age\n"
      ],
      "execution_count": null,
      "outputs": []
    },
    {
      "cell_type": "markdown",
      "metadata": {
        "id": "vU6EwDnwia5d"
      },
      "source": [
        "#-> plotting histogram to check Age of maximum diabetic people"
      ]
    },
    {
      "cell_type": "code",
      "metadata": {
        "colab": {
          "base_uri": "https://localhost:8080/",
          "height": 367
        },
        "id": "8uGTs0WYBPbp",
        "outputId": "ea9b7455-c0f0-4824-dd72-dd34b470bef9"
      },
      "source": [
        "plt.xlabel('Age')\n",
        "plt.ylabel('Number of people')\n",
        "plt.title('Number of diabetic People based on Age')\n",
        "plt.hist([age_non_diabetic, age_diabetic], color=['green','red'], label=['Non Diabetic', 'Diabetic'])\n",
        "plt.legend()\n"
      ],
      "execution_count": null,
      "outputs": [
        {
          "output_type": "stream",
          "name": "stderr",
          "text": [
            "/usr/local/lib/python3.7/dist-packages/numpy/core/_asarray.py:83: VisibleDeprecationWarning: Creating an ndarray from ragged nested sequences (which is a list-or-tuple of lists-or-tuples-or ndarrays with different lengths or shapes) is deprecated. If you meant to do this, you must specify 'dtype=object' when creating the ndarray\n",
            "  return array(a, dtype, copy=False, order=order)\n"
          ]
        },
        {
          "output_type": "execute_result",
          "data": {
            "text/plain": [
              "<matplotlib.legend.Legend at 0x7f978fbf5790>"
            ]
          },
          "metadata": {},
          "execution_count": 115
        },
        {
          "output_type": "display_data",
          "data": {
            "image/png": "[encoded data removed]",
            "text/plain": [
              "<Figure size 432x288 with 1 Axes>"
            ]
          },
          "metadata": {
            "needs_background": "light"
          }
        }
      ]
    },
    {
      "cell_type": "markdown",
      "metadata": {
        "id": "lFApCDUZJiwa"
      },
      "source": [
        "**It can be seen that Diabetics is prominent in people between the age of 25 - 45**"
      ]
    },
    {
      "cell_type": "markdown",
      "metadata": {
        "id": "ZsNmwaIbi32H"
      },
      "source": [
        "#-> Seperating the target variable"
      ]
    },
    {
      "cell_type": "code",
      "metadata": {
        "id": "PLgSf8wFgkw4"
      },
      "source": [
        "X = df.drop('Outcome', axis = 'columns')\n",
        "y = df.Outcome\n"
      ],
      "execution_count": null,
      "outputs": []
    },
    {
      "cell_type": "code",
      "metadata": {
        "colab": {
          "base_uri": "https://localhost:8080/"
        },
        "id": "5zQ9dAuvKOHU",
        "outputId": "49a539d7-1929-4707-dcb2-92d05384090f"
      },
      "source": [
        "X.shape"
      ],
      "execution_count": null,
      "outputs": [
        {
          "output_type": "execute_result",
          "data": {
            "text/plain": [
              "(768, 8)"
            ]
          },
          "metadata": {},
          "execution_count": 117
        }
      ]
    },
    {
      "cell_type": "code",
      "metadata": {
        "colab": {
          "base_uri": "https://localhost:8080/"
        },
        "id": "JAfbLkGeM14y",
        "outputId": "42089b31-1d70-4b30-d0ec-b2644a82c5aa"
      },
      "source": [
        "y.shape"
      ],
      "execution_count": null,
      "outputs": [
        {
          "output_type": "execute_result",
          "data": {
            "text/plain": [
              "(768,)"
            ]
          },
          "metadata": {},
          "execution_count": 118
        }
      ]
    },
    {
      "cell_type": "markdown",
      "metadata": {
        "id": "wQeu3x1DpKOI"
      },
      "source": [
        "#-> Scaling the Data"
      ]
    },
    {
      "cell_type": "code",
      "metadata": {
        "id": "RLXH1RNNn5vw"
      },
      "source": [
        "\n",
        "from sklearn.preprocessing import StandardScaler\n",
        "scaled_features = StandardScaler().fit_transform(X)\n",
        "x = pd.DataFrame(scaled_features, index=df.index, columns=X.columns)"
      ],
      "execution_count": null,
      "outputs": []
    },
    {
      "cell_type": "markdown",
      "metadata": {
        "id": "KNTQCs1wi9tq"
      },
      "source": [
        "#-> Splitting the data into train and test"
      ]
    },
    {
      "cell_type": "code",
      "metadata": {
        "id": "TqYiH98LM6H2"
      },
      "source": [
        "from sklearn.model_selection import train_test_split\n",
        "X_train, X_test, y_train, y_test = train_test_split(x,y,\n",
        "                                                    test_size=0.2,\n",
        "                                                    random_state=44)\n"
      ],
      "execution_count": null,
      "outputs": []
    },
    {
      "cell_type": "code",
      "metadata": {
        "colab": {
          "base_uri": "https://localhost:8080/"
        },
        "id": "65ptH-czIksK",
        "outputId": "a2e9d659-7515-4310-ad09-4a5c423608c0"
      },
      "source": [
        "print(X_train.shape)\n",
        "print(X_test.shape)\n",
        "print(y_train.shape)\n",
        "print(y_test.shape)\n"
      ],
      "execution_count": null,
      "outputs": [
        {
          "output_type": "stream",
          "name": "stdout",
          "text": [
            "(614, 8)\n",
            "(154, 8)\n",
            "(614,)\n",
            "(154,)\n"
          ]
        }
      ]
    },
    {
      "cell_type": "markdown",
      "metadata": {
        "id": "saGw6QLtjH9-"
      },
      "source": [
        "#->Building the ANN model"
      ]
    },
    {
      "cell_type": "code",
      "metadata": {
        "id": "2-9iVAUPNxCM"
      },
      "source": [
        "import tensorflow as tf\n",
        "from tensorflow import keras \n",
        "from tensorflow.keras import layers\n",
        "from tensorflow.keras import models\n"
      ],
      "execution_count": null,
      "outputs": []
    },
    {
      "cell_type": "code",
      "metadata": {
        "colab": {
          "base_uri": "https://localhost:8080/"
        },
        "id": "gXbVjcmgRlNY",
        "outputId": "cd7f6ec0-f84c-4de1-bea2-b4aaa2555bd7"
      },
      "source": [
        "model = keras.Sequential()\n",
        "model.add(layers.Dense(5, activation='relu',input_shape=(8,)))\n",
        "model.add(layers.Dense(1, activation='sigmoid'))\n",
        "\n",
        "model.compile(optimizer='adam', \n",
        "              loss='binary_crossentropy', \n",
        "              metrics=['accuracy'])\n",
        "\n",
        "model.fit(X_train, y_train, batch_size= 32, epochs=150)\n"
      ],
      "execution_count": null,
      "outputs": [
        {
          "output_type": "stream",
          "name": "stdout",
          "text": [
            "Epoch 1/150\n",
            "20/20 [==============================] - 1s 3ms/step - loss: 0.7926 - accuracy: 0.4267\n",
            "Epoch 2/150\n",
            "20/20 [==============================] - 0s 3ms/step - loss: 0.7582 - accuracy: 0.4739\n",
            "Epoch 3/150\n",
            "20/20 [==============================] - 0s 3ms/step - loss: 0.7277 - accuracy: 0.5163\n",
            "Epoch 4/150\n",
            "20/20 [==============================] - 0s 3ms/step - loss: 0.7017 - accuracy: 0.5717\n",
            "Epoch 5/150\n",
            "20/20 [==============================] - 0s 3ms/step - loss: 0.6794 - accuracy: 0.6091\n",
            "Epoch 6/150\n",
            "20/20 [==============================] - 0s 3ms/step - loss: 0.6592 - accuracy: 0.6450\n",
            "Epoch 7/150\n",
            "20/20 [==============================] - 0s 3ms/step - loss: 0.6421 - accuracy: 0.6596\n",
            "Epoch 8/150\n",
            "20/20 [==============================] - 0s 3ms/step - loss: 0.6268 - accuracy: 0.6906\n",
            "Epoch 9/150\n",
            "20/20 [==============================] - 0s 3ms/step - loss: 0.6128 - accuracy: 0.7020\n",
            "Epoch 10/150\n",
            "20/20 [==============================] - 0s 3ms/step - loss: 0.6005 - accuracy: 0.7231\n",
            "Epoch 11/150\n",
            "20/20 [==============================] - 0s 3ms/step - loss: 0.5899 - accuracy: 0.7378\n",
            "Epoch 12/150\n",
            "20/20 [==============================] - 0s 4ms/step - loss: 0.5809 - accuracy: 0.7394\n",
            "Epoch 13/150\n",
            "20/20 [==============================] - 0s 3ms/step - loss: 0.5720 - accuracy: 0.7345\n",
            "Epoch 14/150\n",
            "20/20 [==============================] - 0s 4ms/step - loss: 0.5642 - accuracy: 0.7476\n",
            "Epoch 15/150\n",
            "20/20 [==============================] - 0s 3ms/step - loss: 0.5569 - accuracy: 0.7524\n",
            "Epoch 16/150\n",
            "20/20 [==============================] - 0s 4ms/step - loss: 0.5504 - accuracy: 0.7557\n",
            "Epoch 17/150\n",
            "20/20 [==============================] - 0s 4ms/step - loss: 0.5441 - accuracy: 0.7508\n",
            "Epoch 18/150\n",
            "20/20 [==============================] - 0s 3ms/step - loss: 0.5380 - accuracy: 0.7508\n",
            "Epoch 19/150\n",
            "20/20 [==============================] - 0s 3ms/step - loss: 0.5322 - accuracy: 0.7492\n",
            "Epoch 20/150\n",
            "20/20 [==============================] - 0s 4ms/step - loss: 0.5267 - accuracy: 0.7508\n",
            "Epoch 21/150\n",
            "20/20 [==============================] - 0s 3ms/step - loss: 0.5217 - accuracy: 0.7524\n",
            "Epoch 22/150\n",
            "20/20 [==============================] - 0s 3ms/step - loss: 0.5170 - accuracy: 0.7524\n",
            "Epoch 23/150\n",
            "20/20 [==============================] - 0s 3ms/step - loss: 0.5126 - accuracy: 0.7524\n",
            "Epoch 24/150\n",
            "20/20 [==============================] - 0s 3ms/step - loss: 0.5084 - accuracy: 0.7492\n",
            "Epoch 25/150\n",
            "20/20 [==============================] - 0s 3ms/step - loss: 0.5048 - accuracy: 0.7492\n",
            "Epoch 26/150\n",
            "20/20 [==============================] - 0s 3ms/step - loss: 0.5015 - accuracy: 0.7492\n",
            "Epoch 27/150\n",
            "20/20 [==============================] - 0s 4ms/step - loss: 0.4983 - accuracy: 0.7492\n",
            "Epoch 28/150\n",
            "20/20 [==============================] - 0s 4ms/step - loss: 0.4953 - accuracy: 0.7476\n",
            "Epoch 29/150\n",
            "20/20 [==============================] - 0s 4ms/step - loss: 0.4927 - accuracy: 0.7524\n",
            "Epoch 30/150\n",
            "20/20 [==============================] - 0s 3ms/step - loss: 0.4902 - accuracy: 0.7557\n",
            "Epoch 31/150\n",
            "20/20 [==============================] - 0s 3ms/step - loss: 0.4879 - accuracy: 0.7541\n",
            "Epoch 32/150\n",
            "20/20 [==============================] - 0s 4ms/step - loss: 0.4857 - accuracy: 0.7590\n",
            "Epoch 33/150\n",
            "20/20 [==============================] - 0s 3ms/step - loss: 0.4840 - accuracy: 0.7622\n",
            "Epoch 34/150\n",
            "20/20 [==============================] - 0s 4ms/step - loss: 0.4825 - accuracy: 0.7638\n",
            "Epoch 35/150\n",
            "20/20 [==============================] - 0s 3ms/step - loss: 0.4808 - accuracy: 0.7671\n",
            "Epoch 36/150\n",
            "20/20 [==============================] - 0s 3ms/step - loss: 0.4794 - accuracy: 0.7671\n",
            "Epoch 37/150\n",
            "20/20 [==============================] - 0s 3ms/step - loss: 0.4781 - accuracy: 0.7638\n",
            "Epoch 38/150\n",
            "20/20 [==============================] - 0s 3ms/step - loss: 0.4765 - accuracy: 0.7671\n",
            "Epoch 39/150\n",
            "20/20 [==============================] - 0s 3ms/step - loss: 0.4754 - accuracy: 0.7655\n",
            "Epoch 40/150\n",
            "20/20 [==============================] - 0s 4ms/step - loss: 0.4743 - accuracy: 0.7655\n",
            "Epoch 41/150\n",
            "20/20 [==============================] - 0s 3ms/step - loss: 0.4735 - accuracy: 0.7638\n",
            "Epoch 42/150\n",
            "20/20 [==============================] - 0s 3ms/step - loss: 0.4726 - accuracy: 0.7671\n",
            "Epoch 43/150\n",
            "20/20 [==============================] - 0s 3ms/step - loss: 0.4719 - accuracy: 0.7655\n",
            "Epoch 44/150\n",
            "20/20 [==============================] - 0s 3ms/step - loss: 0.4712 - accuracy: 0.7655\n",
            "Epoch 45/150\n",
            "20/20 [==============================] - 0s 3ms/step - loss: 0.4706 - accuracy: 0.7638\n",
            "Epoch 46/150\n",
            "20/20 [==============================] - 0s 3ms/step - loss: 0.4698 - accuracy: 0.7655\n",
            "Epoch 47/150\n",
            "20/20 [==============================] - 0s 3ms/step - loss: 0.4693 - accuracy: 0.7671\n",
            "Epoch 48/150\n",
            "20/20 [==============================] - 0s 3ms/step - loss: 0.4690 - accuracy: 0.7671\n",
            "Epoch 49/150\n",
            "20/20 [==============================] - 0s 3ms/step - loss: 0.4684 - accuracy: 0.7704\n",
            "Epoch 50/150\n",
            "20/20 [==============================] - 0s 3ms/step - loss: 0.4680 - accuracy: 0.7720\n",
            "Epoch 51/150\n",
            "20/20 [==============================] - 0s 3ms/step - loss: 0.4675 - accuracy: 0.7720\n",
            "Epoch 52/150\n",
            "20/20 [==============================] - 0s 3ms/step - loss: 0.4670 - accuracy: 0.7704\n",
            "Epoch 53/150\n",
            "20/20 [==============================] - 0s 3ms/step - loss: 0.4666 - accuracy: 0.7720\n",
            "Epoch 54/150\n",
            "20/20 [==============================] - 0s 3ms/step - loss: 0.4666 - accuracy: 0.7655\n",
            "Epoch 55/150\n",
            "20/20 [==============================] - 0s 3ms/step - loss: 0.4659 - accuracy: 0.7671\n",
            "Epoch 56/150\n",
            "20/20 [==============================] - 0s 4ms/step - loss: 0.4655 - accuracy: 0.7704\n",
            "Epoch 57/150\n",
            "20/20 [==============================] - 0s 3ms/step - loss: 0.4653 - accuracy: 0.7671\n",
            "Epoch 58/150\n",
            "20/20 [==============================] - 0s 4ms/step - loss: 0.4650 - accuracy: 0.7655\n",
            "Epoch 59/150\n",
            "20/20 [==============================] - 0s 4ms/step - loss: 0.4648 - accuracy: 0.7671\n",
            "Epoch 60/150\n",
            "20/20 [==============================] - 0s 3ms/step - loss: 0.4647 - accuracy: 0.7671\n",
            "Epoch 61/150\n",
            "20/20 [==============================] - 0s 3ms/step - loss: 0.4645 - accuracy: 0.7687\n",
            "Epoch 62/150\n",
            "20/20 [==============================] - 0s 4ms/step - loss: 0.4641 - accuracy: 0.7671\n",
            "Epoch 63/150\n",
            "20/20 [==============================] - 0s 3ms/step - loss: 0.4640 - accuracy: 0.7671\n",
            "Epoch 64/150\n",
            "20/20 [==============================] - 0s 3ms/step - loss: 0.4638 - accuracy: 0.7704\n",
            "Epoch 65/150\n",
            "20/20 [==============================] - 0s 3ms/step - loss: 0.4637 - accuracy: 0.7687\n",
            "Epoch 66/150\n",
            "20/20 [==============================] - 0s 3ms/step - loss: 0.4636 - accuracy: 0.7687\n",
            "Epoch 67/150\n",
            "20/20 [==============================] - 0s 4ms/step - loss: 0.4633 - accuracy: 0.7720\n",
            "Epoch 68/150\n",
            "20/20 [==============================] - 0s 3ms/step - loss: 0.4632 - accuracy: 0.7687\n",
            "Epoch 69/150\n",
            "20/20 [==============================] - 0s 3ms/step - loss: 0.4632 - accuracy: 0.7687\n",
            "Epoch 70/150\n",
            "20/20 [==============================] - 0s 3ms/step - loss: 0.4632 - accuracy: 0.7687\n",
            "Epoch 71/150\n",
            "20/20 [==============================] - 0s 3ms/step - loss: 0.4629 - accuracy: 0.7704\n",
            "Epoch 72/150\n",
            "20/20 [==============================] - 0s 4ms/step - loss: 0.4626 - accuracy: 0.7687\n",
            "Epoch 73/150\n",
            "20/20 [==============================] - 0s 4ms/step - loss: 0.4625 - accuracy: 0.7704\n",
            "Epoch 74/150\n",
            "20/20 [==============================] - 0s 3ms/step - loss: 0.4623 - accuracy: 0.7687\n",
            "Epoch 75/150\n",
            "20/20 [==============================] - 0s 3ms/step - loss: 0.4621 - accuracy: 0.7704\n",
            "Epoch 76/150\n",
            "20/20 [==============================] - 0s 4ms/step - loss: 0.4621 - accuracy: 0.7704\n",
            "Epoch 77/150\n",
            "20/20 [==============================] - 0s 3ms/step - loss: 0.4620 - accuracy: 0.7687\n",
            "Epoch 78/150\n",
            "20/20 [==============================] - 0s 3ms/step - loss: 0.4621 - accuracy: 0.7704\n",
            "Epoch 79/150\n",
            "20/20 [==============================] - 0s 3ms/step - loss: 0.4619 - accuracy: 0.7720\n",
            "Epoch 80/150\n",
            "20/20 [==============================] - 0s 3ms/step - loss: 0.4618 - accuracy: 0.7704\n",
            "Epoch 81/150\n",
            "20/20 [==============================] - 0s 3ms/step - loss: 0.4615 - accuracy: 0.7704\n",
            "Epoch 82/150\n",
            "20/20 [==============================] - 0s 3ms/step - loss: 0.4616 - accuracy: 0.7736\n",
            "Epoch 83/150\n",
            "20/20 [==============================] - 0s 4ms/step - loss: 0.4615 - accuracy: 0.7720\n",
            "Epoch 84/150\n",
            "20/20 [==============================] - 0s 3ms/step - loss: 0.4614 - accuracy: 0.7752\n",
            "Epoch 85/150\n",
            "20/20 [==============================] - 0s 4ms/step - loss: 0.4611 - accuracy: 0.7687\n",
            "Epoch 86/150\n",
            "20/20 [==============================] - 0s 3ms/step - loss: 0.4610 - accuracy: 0.7704\n",
            "Epoch 87/150\n",
            "20/20 [==============================] - 0s 3ms/step - loss: 0.4611 - accuracy: 0.7704\n",
            "Epoch 88/150\n",
            "20/20 [==============================] - 0s 4ms/step - loss: 0.4610 - accuracy: 0.7720\n",
            "Epoch 89/150\n",
            "20/20 [==============================] - 0s 3ms/step - loss: 0.4609 - accuracy: 0.7704\n",
            "Epoch 90/150\n",
            "20/20 [==============================] - 0s 3ms/step - loss: 0.4608 - accuracy: 0.7736\n",
            "Epoch 91/150\n",
            "20/20 [==============================] - 0s 4ms/step - loss: 0.4605 - accuracy: 0.7736\n",
            "Epoch 92/150\n",
            "20/20 [==============================] - 0s 3ms/step - loss: 0.4603 - accuracy: 0.7769\n",
            "Epoch 93/150\n",
            "20/20 [==============================] - 0s 3ms/step - loss: 0.4603 - accuracy: 0.7752\n",
            "Epoch 94/150\n",
            "20/20 [==============================] - 0s 3ms/step - loss: 0.4601 - accuracy: 0.7785\n",
            "Epoch 95/150\n",
            "20/20 [==============================] - 0s 3ms/step - loss: 0.4602 - accuracy: 0.7720\n",
            "Epoch 96/150\n",
            "20/20 [==============================] - 0s 3ms/step - loss: 0.4601 - accuracy: 0.7704\n",
            "Epoch 97/150\n",
            "20/20 [==============================] - 0s 4ms/step - loss: 0.4599 - accuracy: 0.7720\n",
            "Epoch 98/150\n",
            "20/20 [==============================] - 0s 4ms/step - loss: 0.4598 - accuracy: 0.7704\n",
            "Epoch 99/150\n",
            "20/20 [==============================] - 0s 3ms/step - loss: 0.4599 - accuracy: 0.7736\n",
            "Epoch 100/150\n",
            "20/20 [==============================] - 0s 3ms/step - loss: 0.4595 - accuracy: 0.7736\n",
            "Epoch 101/150\n",
            "20/20 [==============================] - 0s 3ms/step - loss: 0.4596 - accuracy: 0.7752\n",
            "Epoch 102/150\n",
            "20/20 [==============================] - 0s 3ms/step - loss: 0.4594 - accuracy: 0.7752\n",
            "Epoch 103/150\n",
            "20/20 [==============================] - 0s 3ms/step - loss: 0.4595 - accuracy: 0.7752\n",
            "Epoch 104/150\n",
            "20/20 [==============================] - 0s 3ms/step - loss: 0.4594 - accuracy: 0.7720\n",
            "Epoch 105/150\n",
            "20/20 [==============================] - 0s 3ms/step - loss: 0.4592 - accuracy: 0.7736\n",
            "Epoch 106/150\n",
            "20/20 [==============================] - 0s 4ms/step - loss: 0.4590 - accuracy: 0.7736\n",
            "Epoch 107/150\n",
            "20/20 [==============================] - 0s 3ms/step - loss: 0.4590 - accuracy: 0.7736\n",
            "Epoch 108/150\n",
            "20/20 [==============================] - 0s 3ms/step - loss: 0.4586 - accuracy: 0.7769\n",
            "Epoch 109/150\n",
            "20/20 [==============================] - 0s 3ms/step - loss: 0.4586 - accuracy: 0.7769\n",
            "Epoch 110/150\n",
            "20/20 [==============================] - 0s 4ms/step - loss: 0.4586 - accuracy: 0.7785\n",
            "Epoch 111/150\n",
            "20/20 [==============================] - 0s 3ms/step - loss: 0.4587 - accuracy: 0.7769\n",
            "Epoch 112/150\n",
            "20/20 [==============================] - 0s 4ms/step - loss: 0.4585 - accuracy: 0.7801\n",
            "Epoch 113/150\n",
            "20/20 [==============================] - 0s 3ms/step - loss: 0.4585 - accuracy: 0.7752\n",
            "Epoch 114/150\n",
            "20/20 [==============================] - 0s 3ms/step - loss: 0.4582 - accuracy: 0.7818\n",
            "Epoch 115/150\n",
            "20/20 [==============================] - 0s 3ms/step - loss: 0.4581 - accuracy: 0.7801\n",
            "Epoch 116/150\n",
            "20/20 [==============================] - 0s 3ms/step - loss: 0.4581 - accuracy: 0.7801\n",
            "Epoch 117/150\n",
            "20/20 [==============================] - 0s 3ms/step - loss: 0.4581 - accuracy: 0.7818\n",
            "Epoch 118/150\n",
            "20/20 [==============================] - 0s 3ms/step - loss: 0.4580 - accuracy: 0.7801\n",
            "Epoch 119/150\n",
            "20/20 [==============================] - 0s 3ms/step - loss: 0.4579 - accuracy: 0.7834\n",
            "Epoch 120/150\n",
            "20/20 [==============================] - 0s 3ms/step - loss: 0.4581 - accuracy: 0.7818\n",
            "Epoch 121/150\n",
            "20/20 [==============================] - 0s 3ms/step - loss: 0.4580 - accuracy: 0.7801\n",
            "Epoch 122/150\n",
            "20/20 [==============================] - 0s 3ms/step - loss: 0.4577 - accuracy: 0.7818\n",
            "Epoch 123/150\n",
            "20/20 [==============================] - 0s 3ms/step - loss: 0.4575 - accuracy: 0.7801\n",
            "Epoch 124/150\n",
            "20/20 [==============================] - 0s 3ms/step - loss: 0.4576 - accuracy: 0.7818\n",
            "Epoch 125/150\n",
            "20/20 [==============================] - 0s 4ms/step - loss: 0.4575 - accuracy: 0.7818\n",
            "Epoch 126/150\n",
            "20/20 [==============================] - 0s 4ms/step - loss: 0.4573 - accuracy: 0.7818\n",
            "Epoch 127/150\n",
            "20/20 [==============================] - 0s 3ms/step - loss: 0.4573 - accuracy: 0.7801\n",
            "Epoch 128/150\n",
            "20/20 [==============================] - 0s 3ms/step - loss: 0.4573 - accuracy: 0.7801\n",
            "Epoch 129/150\n",
            "20/20 [==============================] - 0s 3ms/step - loss: 0.4575 - accuracy: 0.7801\n",
            "Epoch 130/150\n",
            "20/20 [==============================] - 0s 3ms/step - loss: 0.4570 - accuracy: 0.7801\n",
            "Epoch 131/150\n",
            "20/20 [==============================] - 0s 4ms/step - loss: 0.4571 - accuracy: 0.7801\n",
            "Epoch 132/150\n",
            "20/20 [==============================] - 0s 4ms/step - loss: 0.4570 - accuracy: 0.7769\n",
            "Epoch 133/150\n",
            "20/20 [==============================] - 0s 3ms/step - loss: 0.4571 - accuracy: 0.7801\n",
            "Epoch 134/150\n",
            "20/20 [==============================] - 0s 3ms/step - loss: 0.4570 - accuracy: 0.7818\n",
            "Epoch 135/150\n",
            "20/20 [==============================] - 0s 3ms/step - loss: 0.4567 - accuracy: 0.7818\n",
            "Epoch 136/150\n",
            "20/20 [==============================] - 0s 3ms/step - loss: 0.4569 - accuracy: 0.7818\n",
            "Epoch 137/150\n",
            "20/20 [==============================] - 0s 3ms/step - loss: 0.4568 - accuracy: 0.7801\n",
            "Epoch 138/150\n",
            "20/20 [==============================] - 0s 4ms/step - loss: 0.4568 - accuracy: 0.7818\n",
            "Epoch 139/150\n",
            "20/20 [==============================] - 0s 4ms/step - loss: 0.4567 - accuracy: 0.7801\n",
            "Epoch 140/150\n",
            "20/20 [==============================] - 0s 3ms/step - loss: 0.4566 - accuracy: 0.7818\n",
            "Epoch 141/150\n",
            "20/20 [==============================] - 0s 3ms/step - loss: 0.4566 - accuracy: 0.7834\n",
            "Epoch 142/150\n",
            "20/20 [==============================] - 0s 3ms/step - loss: 0.4565 - accuracy: 0.7801\n",
            "Epoch 143/150\n",
            "20/20 [==============================] - 0s 3ms/step - loss: 0.4565 - accuracy: 0.7801\n",
            "Epoch 144/150\n",
            "20/20 [==============================] - 0s 3ms/step - loss: 0.4564 - accuracy: 0.7850\n",
            "Epoch 145/150\n",
            "20/20 [==============================] - 0s 3ms/step - loss: 0.4563 - accuracy: 0.7850\n",
            "Epoch 146/150\n",
            "20/20 [==============================] - 0s 3ms/step - loss: 0.4562 - accuracy: 0.7850\n",
            "Epoch 147/150\n",
            "20/20 [==============================] - 0s 3ms/step - loss: 0.4562 - accuracy: 0.7834\n",
            "Epoch 148/150\n",
            "20/20 [==============================] - 0s 4ms/step - loss: 0.4562 - accuracy: 0.7818\n",
            "Epoch 149/150\n",
            "20/20 [==============================] - 0s 4ms/step - loss: 0.4562 - accuracy: 0.7834\n",
            "Epoch 150/150\n",
            "20/20 [==============================] - 0s 3ms/step - loss: 0.4561 - accuracy: 0.7834\n"
          ]
        },
        {
          "output_type": "execute_result",
          "data": {
            "text/plain": [
              "<keras.callbacks.History at 0x7f98101c6fd0>"
            ]
          },
          "metadata": {},
          "execution_count": 123
        }
      ]
    },
    {
      "cell_type": "markdown",
      "metadata": {
        "id": "u2mOwZ4QjPws"
      },
      "source": [
        "#->Evaluate the model"
      ]
    },
    {
      "cell_type": "code",
      "metadata": {
        "colab": {
          "base_uri": "https://localhost:8080/"
        },
        "id": "KY0wUYEDDwA9",
        "outputId": "dc278d59-2bc4-40a9-b15b-7b3467045228"
      },
      "source": [
        "model.evaluate(X_test, y_test)"
      ],
      "execution_count": null,
      "outputs": [
        {
          "output_type": "stream",
          "name": "stdout",
          "text": [
            "5/5 [==============================] - 0s 3ms/step - loss: 0.4482 - accuracy: 0.7792\n"
          ]
        },
        {
          "output_type": "execute_result",
          "data": {
            "text/plain": [
              "[0.44819238781929016, 0.7792207598686218]"
            ]
          },
          "metadata": {},
          "execution_count": 124
        }
      ]
    },
    {
      "cell_type": "code",
      "metadata": {
        "colab": {
          "base_uri": "https://localhost:8080/"
        },
        "id": "YijkPO8nL8jt",
        "outputId": "dd3cc063-72f0-4568-c03e-f5e6e6326e40"
      },
      "source": [
        "yp = model.predict(X_test)\n",
        "yp[:5]"
      ],
      "execution_count": null,
      "outputs": [
        {
          "output_type": "execute_result",
          "data": {
            "text/plain": [
              "array([[0.06736457],\n",
              "       [0.8016551 ],\n",
              "       [0.8099672 ],\n",
              "       [0.06615512],\n",
              "       [0.5133118 ]], dtype=float32)"
            ]
          },
          "metadata": {},
          "execution_count": 125
        }
      ]
    },
    {
      "cell_type": "code",
      "metadata": {
        "colab": {
          "base_uri": "https://localhost:8080/"
        },
        "id": "PdLF6ZdTMIKD",
        "outputId": "4b2ecd8e-a019-44ab-d333-f9b00b6bab13"
      },
      "source": [
        "y_test[:5]"
      ],
      "execution_count": null,
      "outputs": [
        {
          "output_type": "execute_result",
          "data": {
            "text/plain": [
              "452    0\n",
              "370    1\n",
              "746    1\n",
              "122    0\n",
              "614    1\n",
              "Name: Outcome, dtype: int64"
            ]
          },
          "metadata": {},
          "execution_count": 126
        }
      ]
    },
    {
      "cell_type": "markdown",
      "metadata": {
        "id": "b0ntm83WpTiu"
      },
      "source": [
        "#->Rounding off predictions to 0 and 1"
      ]
    },
    {
      "cell_type": "code",
      "metadata": {
        "id": "uAgpAQKHMWx9"
      },
      "source": [
        "y_pred =[]\n",
        "for i in yp:\n",
        "  if i >= 0.5:\n",
        "    y_pred.append(1)\n",
        "  else:\n",
        "    y_pred.append(0)"
      ],
      "execution_count": null,
      "outputs": []
    },
    {
      "cell_type": "code",
      "metadata": {
        "colab": {
          "base_uri": "https://localhost:8080/"
        },
        "id": "ifmuN3fPNQIq",
        "outputId": "124ed6ad-3f83-48b6-eca0-89dd3fbeb8d3"
      },
      "source": [
        "y_pred[:10]"
      ],
      "execution_count": null,
      "outputs": [
        {
          "output_type": "execute_result",
          "data": {
            "text/plain": [
              "[0, 1, 1, 0, 1, 1, 0, 0, 0, 0]"
            ]
          },
          "metadata": {},
          "execution_count": 128
        }
      ]
    },
    {
      "cell_type": "code",
      "metadata": {
        "colab": {
          "base_uri": "https://localhost:8080/"
        },
        "id": "hgSe59J0NTvH",
        "outputId": "8e3dce39-52e2-4cf1-fa4d-7e80f6ab3a3a"
      },
      "source": [
        "y_test[:10]"
      ],
      "execution_count": null,
      "outputs": [
        {
          "output_type": "execute_result",
          "data": {
            "text/plain": [
              "452    0\n",
              "370    1\n",
              "746    1\n",
              "122    0\n",
              "614    1\n",
              "231    1\n",
              "460    0\n",
              "83     0\n",
              "734    0\n",
              "766    1\n",
              "Name: Outcome, dtype: int64"
            ]
          },
          "metadata": {},
          "execution_count": 129
        }
      ]
    },
    {
      "cell_type": "markdown",
      "metadata": {
        "id": "2sVUtrRppkYy"
      },
      "source": [
        "#->From above y_pred and y_test; it can bee seen that our model is making only one error\n",
        "# **train** accuracy **78%** and **test** accuracy of **77%**"
      ]
    },
    {
      "cell_type": "markdown",
      "metadata": {
        "id": "8gPOpLsMp0oC"
      },
      "source": [
        "#->Classification  report "
      ]
    },
    {
      "cell_type": "code",
      "metadata": {
        "colab": {
          "base_uri": "https://localhost:8080/"
        },
        "id": "6sE6z_hiNWRQ",
        "outputId": "91c055d4-4db6-483c-ca7e-c337c8e3b172"
      },
      "source": [
        "from sklearn.metrics import classification_report, confusion_matrix\n",
        "print(classification_report(y_test, y_pred))"
      ],
      "execution_count": null,
      "outputs": [
        {
          "output_type": "stream",
          "name": "stdout",
          "text": [
            "              precision    recall  f1-score   support\n",
            "\n",
            "           0       0.74      0.96      0.83        90\n",
            "           1       0.89      0.53      0.67        64\n",
            "\n",
            "    accuracy                           0.78       154\n",
            "   macro avg       0.82      0.74      0.75       154\n",
            "weighted avg       0.81      0.78      0.77       154\n",
            "\n"
          ]
        }
      ]
    },
    {
      "cell_type": "markdown",
      "metadata": {
        "id": "Hzw1WQ9yp6W7"
      },
      "source": [
        "#-> Confusion  matrix "
      ]
    },
    {
      "cell_type": "code",
      "metadata": {
        "colab": {
          "base_uri": "https://localhost:8080/",
          "height": 459
        },
        "id": "fh-t6wi4OQQ4",
        "outputId": "5df38e9f-3428-4d53-8eaa-379220461a81"
      },
      "source": [
        "import seaborn as sn\n",
        "cm = tf.math.confusion_matrix(labels=y_test, predictions=y_pred)\n",
        "\n",
        "plt.figure(figsize = (10,7))\n",
        "sn.heatmap(cm, annot=True, fmt='d')\n",
        "\n",
        "plt.xlabel(\"Predicted\")\n",
        "plt.ylabel(\"Truth\")"
      ],
      "execution_count": null,
      "outputs": [
        {
          "output_type": "execute_result",
          "data": {
            "text/plain": [
              "Text(69.0, 0.5, 'Truth')"
            ]
          },
          "metadata": {},
          "execution_count": 131
        },
        {
          "output_type": "display_data",
          "data": {
            "image/png": "[encoded data removed]",
            "text/plain": [
              "<Figure size 720x504 with 2 Axes>"
            ]
          },
          "metadata": {
            "needs_background": "light"
          }
        }
      ]
    }
  ]
}